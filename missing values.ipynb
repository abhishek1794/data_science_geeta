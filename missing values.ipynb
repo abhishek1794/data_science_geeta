{
 "cells": [
  {
   "cell_type": "code",
   "execution_count": 1,
   "metadata": {},
   "outputs": [],
   "source": [
    "import pandas as pd\n",
    "\n",
    "import numpy as np\n",
    "\n",
    "import matplotlib.pyplot as plt\n",
    "\n",
    "import seaborn as sns"
   ]
  },
  {
   "cell_type": "code",
   "execution_count": 2,
   "metadata": {},
   "outputs": [
    {
     "name": "stderr",
     "output_type": "stream",
     "text": [
      "C:\\Users\\Abhishek\\Anaconda3\\lib\\site-packages\\ipykernel_launcher.py:5: FutureWarning: Sorting because non-concatenation axis is not aligned. A future version\n",
      "of pandas will change to not sort by default.\n",
      "\n",
      "To accept the future behavior, pass 'sort=False'.\n",
      "\n",
      "To retain the current behavior and silence the warning, pass 'sort=True'.\n",
      "\n",
      "  \"\"\"\n"
     ]
    }
   ],
   "source": [
    "#loading datasets\n",
    "df_train = pd.read_csv('train.csv')\n",
    "df_test  = pd.read_csv('test.csv')\n",
    "#concatenation\n",
    "df_combined = pd.concat([df_train, df_test])"
   ]
  },
  {
   "cell_type": "code",
   "execution_count": 3,
   "metadata": {},
   "outputs": [
    {
     "data": {
      "text/plain": [
       "Approved                               30037\n",
       "City_Category                           1128\n",
       "City_Code                               1128\n",
       "Contacted                                  0\n",
       "Customer_Existing_Primary_Bank_Code    13428\n",
       "DOB                                       18\n",
       "EMI                                    67822\n",
       "Employer_Category1                      5623\n",
       "Employer_Category2                      5993\n",
       "Employer_Code                           5623\n",
       "Existing_EMI                              83\n",
       "Gender                                     0\n",
       "ID                                         0\n",
       "Interest_Rate                          67822\n",
       "Lead_Creation_Date                         0\n",
       "Loan_Amount                            39580\n",
       "Loan_Period                            39580\n",
       "Monthly_Income                             0\n",
       "Primary_Bank_Type                      13428\n",
       "Source                                     0\n",
       "Source_Category                            0\n",
       "Var1                                       0\n",
       "dtype: int64"
      ]
     },
     "execution_count": 3,
     "metadata": {},
     "output_type": "execute_result"
    }
   ],
   "source": [
    "#null value check\n",
    "df_combined.isnull().sum()"
   ]
  },
  {
   "cell_type": "code",
   "execution_count": 6,
   "metadata": {},
   "outputs": [
    {
     "data": {
      "text/plain": [
       "Interest_Rate                          67.99\n",
       "EMI                                    67.99\n",
       "Loan_Period                            39.68\n",
       "Loan_Amount                            39.68\n",
       "Approved                               30.11\n",
       "Primary_Bank_Type                      13.46\n",
       "Customer_Existing_Primary_Bank_Code    13.46\n",
       "Employer_Category2                      6.01\n",
       "Employer_Code                           5.64\n",
       "Employer_Category1                      5.64\n",
       "City_Category                           1.13\n",
       "City_Code                               1.13\n",
       "Existing_EMI                            0.08\n",
       "DOB                                     0.02\n",
       "Source_Category                         0.00\n",
       "Gender                                  0.00\n",
       "ID                                      0.00\n",
       "Lead_Creation_Date                      0.00\n",
       "Contacted                               0.00\n",
       "Monthly_Income                          0.00\n",
       "Source                                  0.00\n",
       "Var1                                    0.00\n",
       "dtype: float64"
      ]
     },
     "execution_count": 6,
     "metadata": {},
     "output_type": "execute_result"
    }
   ],
   "source": [
    "#percentage of missing values\n",
    "per_missing = round(df_combined.isnull().sum()/df_combined.shape[0]*100,2).sort_values(ascending=False)\n",
    "per_missing"
   ]
  },
  {
   "cell_type": "code",
   "execution_count": 10,
   "metadata": {},
   "outputs": [
    {
     "data": {
      "text/plain": [
       "Index(['Interest_Rate', 'EMI', 'Loan_Period', 'Loan_Amount', 'Approved',\n",
       "       'Primary_Bank_Type', 'Customer_Existing_Primary_Bank_Code',\n",
       "       'Employer_Category2', 'Employer_Code', 'Employer_Category1',\n",
       "       'City_Category', 'City_Code', 'Existing_EMI', 'DOB', 'Source_Category',\n",
       "       'Gender', 'ID', 'Lead_Creation_Date', 'Contacted', 'Monthly_Income',\n",
       "       'Source', 'Var1'],\n",
       "      dtype='object')"
      ]
     },
     "execution_count": 10,
     "metadata": {},
     "output_type": "execute_result"
    }
   ],
   "source": [
    "per_missing.index"
   ]
  },
  {
   "cell_type": "code",
   "execution_count": 12,
   "metadata": {},
   "outputs": [
    {
     "data": {
      "text/plain": [
       "704"
      ]
     },
     "execution_count": 12,
     "metadata": {},
     "output_type": "execute_result"
    }
   ],
   "source": [
    "#finding unique values\n",
    "df_combined.City_Code.nunique()"
   ]
  },
  {
   "cell_type": "code",
   "execution_count": 4,
   "metadata": {},
   "outputs": [],
   "source": [
    "#dropping columns\n",
    "df_combined.drop(['Source','Customer_Existing_Primary_Bank_Code','Employer_Code','City_Code','Interest_Rate','EMI'],axis=1,inplace=True)"
   ]
  },
  {
   "cell_type": "code",
   "execution_count": 8,
   "metadata": {},
   "outputs": [
    {
     "data": {
      "text/plain": [
       "39445.98637194615"
      ]
     },
     "execution_count": 8,
     "metadata": {},
     "output_type": "execute_result"
    }
   ],
   "source": [
    "#imputation by mean\n",
    "df_combined.Loan_Amount.mean()"
   ]
  },
  {
   "cell_type": "code",
   "execution_count": 13,
   "metadata": {},
   "outputs": [],
   "source": [
    "df_combined['Loan_Amount'].fillna(value= df_combined.Loan_Amount.mean(), inplace= True)\n",
    "#df_combined['Loan_Amount'].fillna(value= 39446, inplace= True)\n"
   ]
  },
  {
   "cell_type": "code",
   "execution_count": 15,
   "metadata": {},
   "outputs": [],
   "source": [
    "#backward fill\n",
    "df_combined['City_Category'].fillna(method='bfill' ,inplace= True)"
   ]
  },
  {
   "cell_type": "code",
   "execution_count": null,
   "metadata": {},
   "outputs": [],
   "source": []
  }
 ],
 "metadata": {
  "kernelspec": {
   "display_name": "Python 3",
   "language": "python",
   "name": "python3"
  },
  "language_info": {
   "codemirror_mode": {
    "name": "ipython",
    "version": 3
   },
   "file_extension": ".py",
   "mimetype": "text/x-python",
   "name": "python",
   "nbconvert_exporter": "python",
   "pygments_lexer": "ipython3",
   "version": "3.8.5"
  },
  "toc": {
   "base_numbering": 1,
   "nav_menu": {},
   "number_sections": true,
   "sideBar": true,
   "skip_h1_title": false,
   "title_cell": "Table of Contents",
   "title_sidebar": "Contents",
   "toc_cell": false,
   "toc_position": {},
   "toc_section_display": true,
   "toc_window_display": false
  }
 },
 "nbformat": 4,
 "nbformat_minor": 2
}
