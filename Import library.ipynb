{
 "cells": [
  {
   "cell_type": "code",
   "execution_count": 1,
   "metadata": {},
   "outputs": [
    {
     "name": "stderr",
     "output_type": "stream",
     "text": [
      "UsageError: unrecognized arguments: #magic command to make plot outputs appear and be stored within the notebook\n"
     ]
    }
   ],
   "source": [
    "import pandas as pd \n",
    "'''\n",
    "data analysis and manipulation tool---- it is built on top of numpy, key data structure is dataframe \n",
    "which allows to store and manipulate in tabular data---- panel data\n",
    "Panel data contain observations of multiple phenomena obtained over multiple time periods for the same firms or individuals.\n",
    "'''\n",
    "pd.set_option('display.max_rows', 500)\n",
    "pd.set_option('display.max_columns', 500)\n",
    "pd.set_option('display.width', 1000)\n",
    "\n",
    "import numpy as np \n",
    "'''\n",
    "In python we have lists-- numpy provides array object.. which are 50x faster than list\n",
    "NumPy arrays are stored at one continuous place in memory unlike lists, \n",
    "so processes can access and manipulate them very efficiently.\n",
    "Written in python, c, c++\n",
    "'''\n",
    "\n",
    "import matplotlib.pyplot as plt\n",
    "'''\n",
    "has its root in MATLAB\n",
    "'''\n",
    "plt.rc(\"font\", size = 14) #to fix font size on plots\n",
    "plt.rcParams['figure.figsize']= 16,8 #to fix fig size throughout the notebook\n",
    "plt.rcParams.update({'font.size': 20, 'figure.figsize': (10, 8)})\n",
    "\n",
    "%matplotlib inline #magic command to make plot outputs appear and be stored within the notebook\n",
    "\n",
    "import seaborn as sns\n",
    "'''\n",
    "visualisation based on matplotlib\n",
    "'''\n",
    "sns.set(style= 'whitegrid', color_codes=True)\n",
    "\n",
    "# We run this to suppress various deprecation warnings - keeps our notebook cleaner\n",
    "import warnings\n",
    "warnings.filterwarnings('ignore')\n",
    "\n",
    "SciPy \n",
    "'''\n",
    "It is a free and open-source Python library used for scientific computing and technical computing. \n",
    "part of numpy stack which include pandas, matplotlib\n",
    "uses multidimensional array\n",
    "'''\n",
    "\n",
    "SciKit Learn\n",
    "'''\n",
    "Simple and efficient tools for predictive data analysis\n",
    "Built on NumPy, SciPy, and matplotlib\n",
    "'''\n",
    "import sklearn as sk \n",
    "from sklearn import preprosessing\n",
    "from sklearn.preprocessing   import StandardScaler, Normalizer\n",
    "\n",
    "from sklearn.linear_model import RidgeClassifierCV,RidgeCV, LinearRegression, LogisticRegressionCV, LogisticRegression\n",
    "\n",
    "from sklearn.model_selection import cross_val_score, RepeatedStratifiedKFold, KFold, GridSearchCV\n",
    "\n",
    "\n",
    "from sklearn.ensemble import RandomForestClassifier,RandomForestRegressor\n",
    "\n",
    "from sklearn.metrics import confusion_matrix, precision_score,recall_score,accuracy_score, roc_auc_score,auc, f1_score\n",
    "from sklearn.metrics import roc_curve, classification_report\n",
    "\n",
    "from sklearn.svm import SVC,SVR\n",
    "\n",
    "from sklearn.model_selection import train_test_split\n",
    "\n",
    "from sklearn.impute import SimpleImputer\n",
    "\n",
    "#pip install imblearn\n",
    "from imblearn.pipeline import Pipeline\n",
    "from imblearn.over_sampling import SMOTE, RandomOverSampler\n",
    "from imblearn.under_sampling import RandomUnderSampler\n",
    "\n",
    "from scipy.stats import skew\n",
    "\n",
    "from urllib.request import urlopen \n",
    "\n"
   ]
  },
  {
   "cell_type": "code",
   "execution_count": 1,
   "metadata": {},
   "outputs": [],
   "source": []
  },
  {
   "cell_type": "code",
   "execution_count": null,
   "metadata": {},
   "outputs": [],
   "source": []
  }
 ],
 "metadata": {
  "kernelspec": {
   "display_name": "Python 3",
   "language": "python",
   "name": "python3"
  },
  "language_info": {
   "codemirror_mode": {
    "name": "ipython",
    "version": 3
   },
   "file_extension": ".py",
   "mimetype": "text/x-python",
   "name": "python",
   "nbconvert_exporter": "python",
   "pygments_lexer": "ipython3",
   "version": "3.8.5"
  },
  "toc": {
   "base_numbering": 1,
   "nav_menu": {},
   "number_sections": true,
   "sideBar": true,
   "skip_h1_title": false,
   "title_cell": "Table of Contents",
   "title_sidebar": "Contents",
   "toc_cell": false,
   "toc_position": {},
   "toc_section_display": true,
   "toc_window_display": false
  }
 },
 "nbformat": 4,
 "nbformat_minor": 2
}
