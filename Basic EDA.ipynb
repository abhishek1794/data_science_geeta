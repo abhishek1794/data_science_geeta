{
 "cells": [
  {
   "cell_type": "code",
   "execution_count": 117,
   "metadata": {},
   "outputs": [],
   "source": [
    "import pandas as pd\n",
    "\n",
    "import numpy as np\n",
    "\n",
    "#loading dataset\n",
    "'''df_train = pd.read_csv('train.csv')\n",
    "df_test  = pd.read_csv('test.csv')'''"
   ]
  },
  {
   "cell_type": "code",
   "execution_count": null,
   "metadata": {},
   "outputs": [],
   "source": []
  },
  {
   "cell_type": "code",
   "execution_count": 118,
   "metadata": {},
   "outputs": [],
   "source": [
    "#loading datasets\n",
    "df = pd.read_csv('train.csv')"
   ]
  },
  {
   "cell_type": "code",
   "execution_count": 119,
   "metadata": {},
   "outputs": [
    {
     "data": {
      "text/plain": [
       "(69713, 22)"
      ]
     },
     "execution_count": 119,
     "metadata": {},
     "output_type": "execute_result"
    }
   ],
   "source": [
    "#to get the shape of dataset\n",
    "df.shape"
   ]
  },
  {
   "cell_type": "code",
   "execution_count": 120,
   "metadata": {},
   "outputs": [
    {
     "data": {
      "text/html": [
       "<div>\n",
       "<style scoped>\n",
       "    .dataframe tbody tr th:only-of-type {\n",
       "        vertical-align: middle;\n",
       "    }\n",
       "\n",
       "    .dataframe tbody tr th {\n",
       "        vertical-align: top;\n",
       "    }\n",
       "\n",
       "    .dataframe thead th {\n",
       "        text-align: right;\n",
       "    }\n",
       "</style>\n",
       "<table border=\"1\" class=\"dataframe\">\n",
       "  <thead>\n",
       "    <tr style=\"text-align: right;\">\n",
       "      <th></th>\n",
       "      <th>ID</th>\n",
       "      <th>Gender</th>\n",
       "      <th>DOB</th>\n",
       "      <th>Lead_Creation_Date</th>\n",
       "      <th>City_Code</th>\n",
       "      <th>City_Category</th>\n",
       "      <th>Employer_Code</th>\n",
       "      <th>Employer_Category1</th>\n",
       "      <th>Employer_Category2</th>\n",
       "      <th>Monthly_Income</th>\n",
       "      <th>...</th>\n",
       "      <th>Contacted</th>\n",
       "      <th>Source</th>\n",
       "      <th>Source_Category</th>\n",
       "      <th>Existing_EMI</th>\n",
       "      <th>Loan_Amount</th>\n",
       "      <th>Loan_Period</th>\n",
       "      <th>Interest_Rate</th>\n",
       "      <th>EMI</th>\n",
       "      <th>Var1</th>\n",
       "      <th>Approved</th>\n",
       "    </tr>\n",
       "  </thead>\n",
       "  <tbody>\n",
       "    <tr>\n",
       "      <td>69708</td>\n",
       "      <td>APPU90955789628</td>\n",
       "      <td>Female</td>\n",
       "      <td>31-07-1983</td>\n",
       "      <td>30-09-2016</td>\n",
       "      <td>C10006</td>\n",
       "      <td>A</td>\n",
       "      <td>COM0000010</td>\n",
       "      <td>A</td>\n",
       "      <td>1.0</td>\n",
       "      <td>4900.0</td>\n",
       "      <td>...</td>\n",
       "      <td>N</td>\n",
       "      <td>S122</td>\n",
       "      <td>G</td>\n",
       "      <td>0.0</td>\n",
       "      <td>NaN</td>\n",
       "      <td>NaN</td>\n",
       "      <td>NaN</td>\n",
       "      <td>NaN</td>\n",
       "      <td>10</td>\n",
       "      <td>0</td>\n",
       "    </tr>\n",
       "    <tr>\n",
       "      <td>69709</td>\n",
       "      <td>APPV80989824738</td>\n",
       "      <td>Female</td>\n",
       "      <td>27-01-1971</td>\n",
       "      <td>30-09-2016</td>\n",
       "      <td>C10116</td>\n",
       "      <td>C</td>\n",
       "      <td>COM0045789</td>\n",
       "      <td>A</td>\n",
       "      <td>4.0</td>\n",
       "      <td>7190.1</td>\n",
       "      <td>...</td>\n",
       "      <td>N</td>\n",
       "      <td>S122</td>\n",
       "      <td>G</td>\n",
       "      <td>1450.0</td>\n",
       "      <td>NaN</td>\n",
       "      <td>NaN</td>\n",
       "      <td>NaN</td>\n",
       "      <td>NaN</td>\n",
       "      <td>7</td>\n",
       "      <td>0</td>\n",
       "    </tr>\n",
       "    <tr>\n",
       "      <td>69710</td>\n",
       "      <td>APPW50697209842</td>\n",
       "      <td>Female</td>\n",
       "      <td>01-02-1992</td>\n",
       "      <td>30-09-2016</td>\n",
       "      <td>C10022</td>\n",
       "      <td>B</td>\n",
       "      <td>COM0013284</td>\n",
       "      <td>C</td>\n",
       "      <td>4.0</td>\n",
       "      <td>1600.0</td>\n",
       "      <td>...</td>\n",
       "      <td>Y</td>\n",
       "      <td>S122</td>\n",
       "      <td>G</td>\n",
       "      <td>0.0</td>\n",
       "      <td>24000.0</td>\n",
       "      <td>4.0</td>\n",
       "      <td>35.50</td>\n",
       "      <td>943.0</td>\n",
       "      <td>2</td>\n",
       "      <td>0</td>\n",
       "    </tr>\n",
       "    <tr>\n",
       "      <td>69711</td>\n",
       "      <td>APPY50870035036</td>\n",
       "      <td>Male</td>\n",
       "      <td>27-06-1978</td>\n",
       "      <td>30-09-2016</td>\n",
       "      <td>C10002</td>\n",
       "      <td>A</td>\n",
       "      <td>COM0000098</td>\n",
       "      <td>C</td>\n",
       "      <td>3.0</td>\n",
       "      <td>9893.0</td>\n",
       "      <td>...</td>\n",
       "      <td>Y</td>\n",
       "      <td>S122</td>\n",
       "      <td>G</td>\n",
       "      <td>1366.0</td>\n",
       "      <td>80000.0</td>\n",
       "      <td>5.0</td>\n",
       "      <td>NaN</td>\n",
       "      <td>NaN</td>\n",
       "      <td>10</td>\n",
       "      <td>0</td>\n",
       "    </tr>\n",
       "    <tr>\n",
       "      <td>69712</td>\n",
       "      <td>APPZ60733046119</td>\n",
       "      <td>Male</td>\n",
       "      <td>31-12-1989</td>\n",
       "      <td>30-09-2016</td>\n",
       "      <td>C10003</td>\n",
       "      <td>A</td>\n",
       "      <td>COM0000056</td>\n",
       "      <td>A</td>\n",
       "      <td>1.0</td>\n",
       "      <td>4230.0</td>\n",
       "      <td>...</td>\n",
       "      <td>Y</td>\n",
       "      <td>S122</td>\n",
       "      <td>G</td>\n",
       "      <td>0.0</td>\n",
       "      <td>69000.0</td>\n",
       "      <td>4.0</td>\n",
       "      <td>13.99</td>\n",
       "      <td>1885.0</td>\n",
       "      <td>10</td>\n",
       "      <td>0</td>\n",
       "    </tr>\n",
       "  </tbody>\n",
       "</table>\n",
       "<p>5 rows × 22 columns</p>\n",
       "</div>"
      ],
      "text/plain": [
       "                    ID  Gender         DOB Lead_Creation_Date City_Code  \\\n",
       "69708  APPU90955789628  Female  31-07-1983         30-09-2016    C10006   \n",
       "69709  APPV80989824738  Female  27-01-1971         30-09-2016    C10116   \n",
       "69710  APPW50697209842  Female  01-02-1992         30-09-2016    C10022   \n",
       "69711  APPY50870035036    Male  27-06-1978         30-09-2016    C10002   \n",
       "69712  APPZ60733046119    Male  31-12-1989         30-09-2016    C10003   \n",
       "\n",
       "      City_Category Employer_Code Employer_Category1  Employer_Category2  \\\n",
       "69708             A    COM0000010                  A                 1.0   \n",
       "69709             C    COM0045789                  A                 4.0   \n",
       "69710             B    COM0013284                  C                 4.0   \n",
       "69711             A    COM0000098                  C                 3.0   \n",
       "69712             A    COM0000056                  A                 1.0   \n",
       "\n",
       "       Monthly_Income  ... Contacted Source Source_Category Existing_EMI  \\\n",
       "69708          4900.0  ...         N   S122               G          0.0   \n",
       "69709          7190.1  ...         N   S122               G       1450.0   \n",
       "69710          1600.0  ...         Y   S122               G          0.0   \n",
       "69711          9893.0  ...         Y   S122               G       1366.0   \n",
       "69712          4230.0  ...         Y   S122               G          0.0   \n",
       "\n",
       "      Loan_Amount  Loan_Period  Interest_Rate     EMI  Var1  Approved  \n",
       "69708         NaN          NaN            NaN     NaN    10         0  \n",
       "69709         NaN          NaN            NaN     NaN     7         0  \n",
       "69710     24000.0          4.0          35.50   943.0     2         0  \n",
       "69711     80000.0          5.0            NaN     NaN    10         0  \n",
       "69712     69000.0          4.0          13.99  1885.0    10         0  \n",
       "\n",
       "[5 rows x 22 columns]"
      ]
     },
     "execution_count": 120,
     "metadata": {},
     "output_type": "execute_result"
    }
   ],
   "source": [
    "#to get top 5 entries on the data set\n",
    "df.head()\n",
    "\n",
    "#to get bottom 5 entries of the data set\n",
    "df.tail()"
   ]
  },
  {
   "cell_type": "code",
   "execution_count": 1,
   "metadata": {},
   "outputs": [
    {
     "ename": "NameError",
     "evalue": "name 'df' is not defined",
     "output_type": "error",
     "traceback": [
      "\u001b[1;31m---------------------------------------------------------------------------\u001b[0m",
      "\u001b[1;31mNameError\u001b[0m                                 Traceback (most recent call last)",
      "\u001b[1;32m<ipython-input-1-a74c58233b9e>\u001b[0m in \u001b[0;36m<module>\u001b[1;34m\u001b[0m\n\u001b[1;32m----> 1\u001b[1;33m \u001b[0mdf\u001b[0m\u001b[1;33m.\u001b[0m\u001b[0minfo\u001b[0m\u001b[1;33m(\u001b[0m\u001b[1;33m)\u001b[0m\u001b[1;33m\u001b[0m\u001b[1;33m\u001b[0m\u001b[0m\n\u001b[0m",
      "\u001b[1;31mNameError\u001b[0m: name 'df' is not defined"
     ]
    }
   ],
   "source": [
    "df.info()"
   ]
  },
  {
   "cell_type": "code",
   "execution_count": null,
   "metadata": {},
   "outputs": [],
   "source": [
    "df.columns"
   ]
  },
  {
   "cell_type": "code",
   "execution_count": 121,
   "metadata": {
    "scrolled": true
   },
   "outputs": [
    {
     "data": {
      "text/plain": [
       "ID                                      object\n",
       "Gender                                  object\n",
       "DOB                                     object\n",
       "Lead_Creation_Date                      object\n",
       "City_Code                               object\n",
       "City_Category                           object\n",
       "Employer_Code                           object\n",
       "Employer_Category1                      object\n",
       "Employer_Category2                     float64\n",
       "Monthly_Income                         float64\n",
       "Customer_Existing_Primary_Bank_Code     object\n",
       "Primary_Bank_Type                       object\n",
       "Contacted                               object\n",
       "Source                                  object\n",
       "Source_Category                         object\n",
       "Existing_EMI                           float64\n",
       "Loan_Amount                            float64\n",
       "Loan_Period                            float64\n",
       "Interest_Rate                          float64\n",
       "EMI                                    float64\n",
       "Var1                                     int64\n",
       "Approved                                 int64\n",
       "dtype: object"
      ]
     },
     "execution_count": 121,
     "metadata": {},
     "output_type": "execute_result"
    }
   ],
   "source": [
    "#data types\n",
    "df.dtypes"
   ]
  },
  {
   "cell_type": "code",
   "execution_count": 122,
   "metadata": {
    "scrolled": true
   },
   "outputs": [
    {
     "name": "stderr",
     "output_type": "stream",
     "text": [
      "C:\\Users\\Abhishek\\Anaconda3\\lib\\site-packages\\ipykernel_launcher.py:2: FutureWarning: Sorting because non-concatenation axis is not aligned. A future version\n",
      "of pandas will change to not sort by default.\n",
      "\n",
      "To accept the future behavior, pass 'sort=False'.\n",
      "\n",
      "To retain the current behavior and silence the warning, pass 'sort=True'.\n",
      "\n",
      "  \n"
     ]
    }
   ],
   "source": [
    "#concatenation\n",
    "df_combined = pd.concat([df_train, df_test])\n",
    "#parameters.. axis=1, join='inner'"
   ]
  },
  {
   "cell_type": "markdown",
   "metadata": {},
   "source": [
    "# change data type using astype"
   ]
  },
  {
   "cell_type": "code",
   "execution_count": 123,
   "metadata": {},
   "outputs": [
    {
     "name": "stdout",
     "output_type": "stream",
     "text": [
      "object\n",
      "object\n",
      "int64\n",
      "int32\n",
      "int64\n"
     ]
    }
   ],
   "source": [
    "print(df_combined['Primary_Bank_Type'].dtypes) #initially data type was 'object'\n",
    "\n",
    "#we cannot change datatype to numeric unless all null values are imputated\n",
    "df_combined['Primary_Bank_Type'].fillna(method='bfill' ,inplace= True)\n",
    "\n",
    "print(df_combined['Primary_Bank_Type'].dtypes)\n",
    "\n",
    "#maping to 0's and 1's\n",
    "df_combined['Primary_Bank_Type'] = df_combined.Primary_Bank_Type.map({'P':0,'G':1})\n",
    "\n",
    "print(df_combined['Primary_Bank_Type'].dtypes)\n",
    "\n",
    "#change data type\n",
    "print(df_combined.Primary_Bank_Type.astype('int32').dtypes)\n",
    "# astype(np.int32) can also be used\n",
    "\n",
    "print(df_combined['Primary_Bank_Type'].dtypes)"
   ]
  },
  {
   "cell_type": "code",
   "execution_count": 124,
   "metadata": {},
   "outputs": [],
   "source": [
    "#the data type does not changed in original dataset\n",
    "df_combined['Primary_Bank_Type']=(df_combined.Primary_Bank_Type.astype('int32'))\n",
    "print(df_combined['Primary_Bank_Type'].dtypes) #now it is changed"
   ]
  },
  {
   "cell_type": "code",
   "execution_count": null,
   "metadata": {},
   "outputs": [],
   "source": [
    "# fraud detection dataset\n",
    "#how many unique values in card 1 where isFraud = 0\n",
    "'''df[df.isFraud==0]['card1'].nunique()'''"
   ]
  },
  {
   "cell_type": "code",
   "execution_count": null,
   "metadata": {},
   "outputs": [],
   "source": [
    "#segeregating numerical and categorical features\n",
    "categorical_features = df.select_dtypes(include = np.object).columns\n",
    "numerical_features   = df.drop(['isFraud','TransactionID'],axis = 1).select_dtypes(include = np.number).columns"
   ]
  },
  {
   "cell_type": "code",
   "execution_count": null,
   "metadata": {},
   "outputs": [],
   "source": [
    "# percentage of class 1 in column\n",
    "print(\"{}% of the data is having target class 1\".format(round(len(df[df.isFraud==1])/len(df)*100),4))\n",
    "print(\"{}% of the data is having target class 0\".format(round(len(df[df.isFraud==0])/len(df)*100),4))"
   ]
  },
  {
   "cell_type": "code",
   "execution_count": null,
   "metadata": {},
   "outputs": [],
   "source": [
    "#fraud detection dataset\n",
    "#\n",
    "_ = pd.merge(df.groupby('card1')[['isFraud']].count().rename(columns = {'isFraud':'total_rows'}),df[df.isFraud==1].groupby('card1')[['isFraud']].count().rename(columns = {'isFraud':'total_rows_1'}),on = ['card1'],how = 'inner')\n",
    "\n",
    "pd.merge(_,df[df.isFraud==0].groupby('card1')[['isFraud']].count().rename(columns = {'isFraud':'total_rows_0'}),on = ['card1'],how = 'left')"
   ]
  },
  {
   "cell_type": "code",
   "execution_count": null,
   "metadata": {},
   "outputs": [],
   "source": [
    "#fraud detection dataset\n",
    "#\n",
    "print(df[(df.M4=='M2') & (df.M2=='T')]['isFraud'].value_counts())"
   ]
  }
 ],
 "metadata": {
  "kernelspec": {
   "display_name": "Python 3",
   "language": "python",
   "name": "python3"
  },
  "language_info": {
   "codemirror_mode": {
    "name": "ipython",
    "version": 3
   },
   "file_extension": ".py",
   "mimetype": "text/x-python",
   "name": "python",
   "nbconvert_exporter": "python",
   "pygments_lexer": "ipython3",
   "version": "3.7.4"
  }
 },
 "nbformat": 4,
 "nbformat_minor": 2
}
